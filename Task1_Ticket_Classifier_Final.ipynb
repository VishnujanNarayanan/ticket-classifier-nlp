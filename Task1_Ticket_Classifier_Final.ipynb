{
 "cells": [
  {
   "cell_type": "markdown",
   "id": "e61ce7e6",
   "metadata": {},
   "source": [
    "# Task 1: Customer Support Ticket Classifier & Entity Extractor\n",
    "\n",
    "This notebook addresses **Task 1** of the Vijayi Internship Assignment. The objective is to:\n",
    "- Classify customer support tickets by **issue type** and **urgency level**\n",
    "- Extract key entities (products, dates, complaint keywords)\n",
    "\n",
    "We use classical NLP and ML techniques as instructed. No LLMs are used.\n"
   ]
  },
  {
   "cell_type": "markdown",
   "id": "30e06392",
   "metadata": {},
   "source": [
    "## 1. Data Loading and Cleaning"
   ]
  },
  {
   "cell_type": "code",
   "execution_count": 24,
   "id": "c0503b19",
   "metadata": {},
   "outputs": [
    {
     "name": "stderr",
     "output_type": "stream",
     "text": [
      "[nltk_data] Downloading package punkt to\n",
      "[nltk_data]     C:\\Users\\naray\\AppData\\Roaming\\nltk_data...\n",
      "[nltk_data]   Package punkt is already up-to-date!\n",
      "[nltk_data] Downloading package stopwords to\n",
      "[nltk_data]     C:\\Users\\naray\\AppData\\Roaming\\nltk_data...\n",
      "[nltk_data]   Package stopwords is already up-to-date!\n",
      "[nltk_data] Downloading package wordnet to\n",
      "[nltk_data]     C:\\Users\\naray\\AppData\\Roaming\\nltk_data...\n",
      "[nltk_data]   Package wordnet is already up-to-date!\n",
      "[nltk_data] Downloading package vader_lexicon to\n",
      "[nltk_data]     C:\\Users\\naray\\AppData\\Roaming\\nltk_data...\n",
      "[nltk_data]   Package vader_lexicon is already up-to-date!\n"
     ]
    }
   ],
   "source": [
    "import pandas as pd\n",
    "import numpy as np\n",
    "import re\n",
    "from nltk.corpus import stopwords, wordnet\n",
    "from nltk import pos_tag\n",
    "from nltk.stem import WordNetLemmatizer\n",
    "from nltk.sentiment import SentimentIntensityAnalyzer\n",
    "from sklearn.model_selection import train_test_split\n",
    "from sklearn.feature_extraction.text import TfidfVectorizer\n",
    "from sklearn.linear_model import LogisticRegression\n",
    "from sklearn.ensemble import RandomForestClassifier\n",
    "from sklearn.svm import SVC\n",
    "from sklearn.naive_bayes import MultinomialNB\n",
    "from sklearn.neighbors import KNeighborsClassifier\n",
    "from sklearn.metrics import classification_report, accuracy_score\n",
    "import nltk\n",
    "nltk.download('punkt')\n",
    "nltk.download('stopwords')\n",
    "nltk.download('wordnet')\n",
    "nltk.download('vader_lexicon')\n",
    "\n",
    "df = pd.read_excel(r\"C:\\Users\\naray\\OneDrive\\Desktop\\internship 3\\ai_dev_assignment_tickets_complex_1000.xls\")\n",
    "df.dropna(subset=['ticket_text', 'issue_type', 'urgency_level'], inplace=True)\n",
    "df = df.drop_duplicates(subset=['ticket_text'])\n"
   ]
  },
  {
   "cell_type": "markdown",
   "id": "81e4d00c",
   "metadata": {},
   "source": [
    "## 2. Preprocessing"
   ]
  },
  {
   "cell_type": "code",
   "execution_count": 25,
   "id": "c4444289",
   "metadata": {},
   "outputs": [],
   "source": [
    "lemmatizer = WordNetLemmatizer()\n",
    "stop_words = set(stopwords.words(\"english\"))\n",
    "\n",
    "def get_wordnet_pos(tag):\n",
    "    if tag.startswith('J'): return wordnet.ADJ\n",
    "    elif tag.startswith('V'): return wordnet.VERB\n",
    "    elif tag.startswith('N'): return wordnet.NOUN\n",
    "    elif tag.startswith('R'): return wordnet.ADV\n",
    "    else: return wordnet.NOUN\n",
    "\n",
    "def preprocess_text(text):\n",
    "    text = text.lower()\n",
    "    text = re.sub(r\"[^a-z0-9\\s]\", \"\", text)\n",
    "    tokens = nltk.word_tokenize(text)\n",
    "    tagged = pos_tag(tokens)\n",
    "    return \" \".join([\n",
    "        lemmatizer.lemmatize(w, get_wordnet_pos(t)) for w, t in tagged if w not in stop_words\n",
    "    ])\n",
    "\n",
    "df['clean_text'] = df['ticket_text'].apply(preprocess_text)\n"
   ]
  },
  {
   "cell_type": "markdown",
   "id": "7b644d24",
   "metadata": {},
   "source": [
    "## 3. Entity Extraction and Feature Engineering"
   ]
  },
  {
   "cell_type": "code",
   "execution_count": 26,
   "id": "7cbff670",
   "metadata": {},
   "outputs": [],
   "source": [
    "product_list = [\"laptop\", \"phone\", \"charger\", \"headphones\", \"battery\"]\n",
    "complaint_keywords = ['broken', 'late', 'error', 'issue', 'crash', 'not working', 'damaged', 'fail']\n",
    "\n",
    "def extract_entities(text):\n",
    "    entities = {}\n",
    "    text_lower = text.lower()\n",
    "    entities['products'] = [p for p in product_list if p in text_lower]\n",
    "    entities['dates'] = re.findall(r'\\b(?:\\d{1,2}[/-]\\d{1,2}[/-]\\d{2,4}|\\d{4}[/-]\\d{1,2}[/-]\\d{1,2})\\b', text)\n",
    "    entities['complaint_keywords'] = [kw for kw in complaint_keywords if re.search(rf'\\b{re.escape(kw)}\\b', text_lower)]\n",
    "    return entities\n",
    "\n",
    "def add_entity_features(df):\n",
    "    extracted = df['ticket_text'].apply(extract_entities)\n",
    "    df['num_products'] = extracted.apply(lambda x: len(x['products']))\n",
    "    df['num_dates'] = extracted.apply(lambda x: len(x['dates']))\n",
    "    df['num_complaints'] = extracted.apply(lambda x: len(x['complaint_keywords']))\n",
    "    df['has_product'] = (df['num_products'] > 0).astype(int)\n",
    "    df['has_date'] = (df['num_dates'] > 0).astype(int)\n",
    "    df['has_complaint'] = (df['num_complaints'] > 0).astype(int)\n",
    "    for kw in complaint_keywords:\n",
    "        df[f'complaint_{kw.replace(\" \", \"_\")}'] = extracted.apply(lambda x: int(kw in x['complaint_keywords']))\n",
    "    return df\n",
    "\n",
    "df = add_entity_features(df)\n"
   ]
  },
  {
   "cell_type": "markdown",
   "id": "d4eee8db",
   "metadata": {},
   "source": [
    "## 4. TF-IDF and Final Feature Matrix"
   ]
  },
  {
   "cell_type": "code",
   "execution_count": 27,
   "id": "91a2aa76",
   "metadata": {},
   "outputs": [],
   "source": [
    "tfidf = TfidfVectorizer(max_features=3000, ngram_range=(1, 2))\n",
    "X_tfidf = tfidf.fit_transform(df['clean_text'])\n",
    "\n",
    "sid = SentimentIntensityAnalyzer()\n",
    "df['ticket_length'] = df['clean_text'].apply(lambda x: len(x.split()))\n",
    "df['sentiment'] = df['ticket_text'].apply(lambda x: sid.polarity_scores(x)['compound'])\n",
    "df['exclamation_count'] = df['ticket_text'].apply(lambda x: x.count('!'))\n",
    "df['question_count'] = df['ticket_text'].apply(lambda x: x.count('?'))\n",
    "df['all_caps_count'] = df['ticket_text'].apply(lambda x: sum(1 for w in x.split() if w.isupper()))\n",
    "df['char_length'] = df['ticket_text'].apply(len)\n",
    "\n",
    "meta_cols = [col for col in df.select_dtypes(include=[np.number]).columns if col != 'ticket_id']\n",
    "\n",
    "\n",
    "X_meta = df[meta_cols].astype(np.float32).values\n",
    "\n",
    "from sklearn.preprocessing import MinMaxScaler\n",
    "\n",
    "scaler = MinMaxScaler()\n",
    "X_meta_scaled = scaler.fit_transform(X_meta)  # scale handcrafted features\n",
    "X = np.hstack([X_tfidf.toarray(), X_meta_scaled])\n"
   ]
  },
  {
   "cell_type": "code",
   "execution_count": 28,
   "id": "485dd84f-baec-45e0-8517-1a0307f5f666",
   "metadata": {},
   "outputs": [
    {
     "name": "stdout",
     "output_type": "stream",
     "text": [
      "(629, 1563)\n"
     ]
    }
   ],
   "source": [
    "print(X_tfidf.shape)\n"
   ]
  },
  {
   "cell_type": "code",
   "execution_count": 29,
   "id": "110a2e61-258c-4396-a96a-a705becbcd73",
   "metadata": {},
   "outputs": [
    {
     "name": "stdout",
     "output_type": "stream",
     "text": [
      "20\n"
     ]
    }
   ],
   "source": [
    "print(len(meta_cols))\n"
   ]
  },
  {
   "cell_type": "code",
   "execution_count": 30,
   "id": "125597f3-229c-4668-bbbc-c7eab501bfd5",
   "metadata": {},
   "outputs": [
    {
     "name": "stdout",
     "output_type": "stream",
     "text": [
      "TF-IDF features: 1563\n",
      "Meta features: 20\n",
      "Total features: 1583\n"
     ]
    }
   ],
   "source": [
    "print(\"TF-IDF features:\", X_tfidf.shape[1])\n",
    "print(\"Meta features:\", len(meta_cols))\n",
    "print(\"Total features:\", X_tfidf.shape[1] + len(meta_cols))\n"
   ]
  },
  {
   "cell_type": "code",
   "execution_count": 31,
   "id": "5b2c76a7-9dbb-4fd1-9a4c-c6b3933404d6",
   "metadata": {},
   "outputs": [
    {
     "name": "stdout",
     "output_type": "stream",
     "text": [
      "['num_products', 'num_dates', 'num_complaints', 'has_product', 'has_date', 'has_complaint', 'complaint_broken', 'complaint_late', 'complaint_error', 'complaint_issue', 'complaint_crash', 'complaint_not_working', 'complaint_damaged', 'complaint_fail', 'ticket_length', 'sentiment', 'exclamation_count', 'question_count', 'all_caps_count', 'char_length']\n",
      "20\n"
     ]
    }
   ],
   "source": [
    "print(meta_cols)\n",
    "print(len(meta_cols))  # confirms 21\n"
   ]
  },
  {
   "cell_type": "markdown",
   "id": "ac7a89f5",
   "metadata": {},
   "source": [
    "## 5. Model Training for Issue Type and Urgency Level"
   ]
  },
  {
   "cell_type": "code",
   "execution_count": 32,
   "id": "85bab996",
   "metadata": {},
   "outputs": [
    {
     "name": "stdout",
     "output_type": "stream",
     "text": [
      "\n",
      "Issue Type Classification Report:\n",
      "                    precision    recall  f1-score   support\n",
      "\n",
      "    Account Access       1.00      1.00      1.00         9\n",
      "   Billing Problem       1.00      1.00      1.00        18\n",
      "   General Inquiry       1.00      1.00      1.00        16\n",
      "Installation Issue       1.00      1.00      1.00        17\n",
      "     Late Delivery       1.00      1.00      1.00        24\n",
      "    Product Defect       1.00      1.00      1.00        21\n",
      "        Wrong Item       1.00      1.00      1.00        21\n",
      "\n",
      "          accuracy                           1.00       126\n",
      "         macro avg       1.00      1.00      1.00       126\n",
      "      weighted avg       1.00      1.00      1.00       126\n",
      "\n",
      "\n",
      "Urgency Level Classification Report (KNN with different k values):\n",
      "\n",
      "K=3 | Accuracy: 0.3254\n",
      "              precision    recall  f1-score   support\n",
      "\n",
      "        High       0.27      0.46      0.34        39\n",
      "         Low       0.35      0.21      0.26        39\n",
      "      Medium       0.41      0.31      0.35        48\n",
      "\n",
      "    accuracy                           0.33       126\n",
      "   macro avg       0.34      0.33      0.32       126\n",
      "weighted avg       0.35      0.33      0.32       126\n",
      "\n",
      "\n",
      "K=5 | Accuracy: 0.3492\n",
      "              precision    recall  f1-score   support\n",
      "\n",
      "        High       0.33      0.49      0.39        39\n",
      "         Low       0.32      0.26      0.29        39\n",
      "      Medium       0.41      0.31      0.35        48\n",
      "\n",
      "    accuracy                           0.35       126\n",
      "   macro avg       0.35      0.35      0.34       126\n",
      "weighted avg       0.36      0.35      0.34       126\n",
      "\n",
      "\n",
      "K=7 | Accuracy: 0.3254\n",
      "              precision    recall  f1-score   support\n",
      "\n",
      "        High       0.28      0.33      0.31        39\n",
      "         Low       0.26      0.21      0.23        39\n",
      "      Medium       0.41      0.42      0.41        48\n",
      "\n",
      "    accuracy                           0.33       126\n",
      "   macro avg       0.32      0.32      0.32       126\n",
      "weighted avg       0.32      0.33      0.32       126\n",
      "\n",
      "\n",
      "K=10 | Accuracy: 0.2937\n",
      "              precision    recall  f1-score   support\n",
      "\n",
      "        High       0.30      0.41      0.35        39\n",
      "         Low       0.21      0.15      0.18        39\n",
      "      Medium       0.34      0.31      0.33        48\n",
      "\n",
      "    accuracy                           0.29       126\n",
      "   macro avg       0.28      0.29      0.28       126\n",
      "weighted avg       0.29      0.29      0.29       126\n",
      "\n",
      "\n",
      "K=15 | Accuracy: 0.3571\n",
      "              precision    recall  f1-score   support\n",
      "\n",
      "        High       0.38      0.51      0.44        39\n",
      "         Low       0.29      0.21      0.24        39\n",
      "      Medium       0.37      0.35      0.36        48\n",
      "\n",
      "    accuracy                           0.36       126\n",
      "   macro avg       0.35      0.36      0.35       126\n",
      "weighted avg       0.35      0.36      0.35       126\n",
      "\n"
     ]
    }
   ],
   "source": [
    "y_issue = df['issue_type']\n",
    "y_urgency = df['urgency_level']\n",
    "\n",
    "X_train, X_test, y_issue_train, y_issue_test, y_urgency_train, y_urgency_test = train_test_split(\n",
    "    X, y_issue, y_urgency, test_size=0.2, random_state=42\n",
    ")\n",
    "\n",
    "issue_model = RandomForestClassifier(random_state=42)\n",
    "issue_model.fit(X_train, y_issue_train)\n",
    "y_issue_pred = issue_model.predict(X_test)\n",
    "print(\"\\nIssue Type Classification Report:\")\n",
    "print(classification_report(y_issue_test, y_issue_pred))\n",
    "\n",
    "# ------------------ OPTIMIZED KNN URGENCY MODEL TRAINING ------------------\n",
    "\n",
    "from sklearn.neighbors import KNeighborsClassifier\n",
    "\n",
    "print(\"\\nUrgency Level Classification Report (KNN with different k values):\")\n",
    "best_score = 0\n",
    "best_model = None\n",
    "\n",
    "for k in [3, 5, 7, 10, 15]:\n",
    "    try:\n",
    "        knn = KNeighborsClassifier(n_neighbors=k)\n",
    "        knn.fit(X_train, y_urgency_train)\n",
    "        pred = knn.predict(X_test)\n",
    "        score = accuracy_score(y_urgency_test, pred)\n",
    "        print(f\"\\nK={k} | Accuracy: {score:.4f}\")\n",
    "        print(classification_report(y_urgency_test, pred))\n",
    "\n",
    "        if score > best_score:\n",
    "            best_score = score\n",
    "            best_model = knn\n",
    "    except Exception as e:\n",
    "        print(f\"K={k} failed. Error: {e}\")\n"
   ]
  },
  {
   "cell_type": "code",
   "execution_count": 33,
   "id": "c75d097c-5404-4f4a-b40b-2d7611af32f6",
   "metadata": {},
   "outputs": [],
   "source": [
    "# ------------------ INFERENCE FUNCTION ------------------\n",
    "\n",
    "def predict_ticket(text):\n",
    "    clean = preprocess_text(text)\n",
    "    X_tfidf = tfidf.transform([clean])\n",
    "\n",
    "    # enriched features\n",
    "    entities = extract_entities(text)\n",
    "    features = [\n",
    "        len(clean.split()),\n",
    "        SentimentIntensityAnalyzer().polarity_scores(text)['compound'],\n",
    "        text.count('!'),\n",
    "        text.count('?'),\n",
    "        sum(1 for w in text.split() if w.isupper()),\n",
    "        len(text),\n",
    "        len(entities['products']),\n",
    "        len(entities['dates']),\n",
    "        len(entities['complaint_keywords']),\n",
    "        int(len(entities['products']) > 0),\n",
    "        int(len(entities['dates']) > 0),\n",
    "        int(len(entities['complaint_keywords']) > 0)\n",
    "    ] + [int(kw in entities['complaint_keywords']) for kw in complaint_keywords]\n",
    "\n",
    "    X = np.hstack([X_tfidf.toarray(), np.array([features], dtype=np.float32)])\n",
    "\n",
    "    issue = issue_model.predict(X)[0]\n",
    "    urgency = best_model.predict(X)[0]\n",
    "\n",
    "    return {\n",
    "        \"issue_type\": issue,\n",
    "        \"urgency_level\": urgency,\n",
    "        \"entities\": entities\n",
    "    }\n"
   ]
  },
  {
   "cell_type": "code",
   "execution_count": 34,
   "id": "8144e1ba-5cb4-42cd-a4a4-ee520200a906",
   "metadata": {},
   "outputs": [
    {
     "name": "stdout",
     "output_type": "stream",
     "text": [
      "\n",
      "Sample Prediction:\n",
      "Issue Type: Product Defect\n",
      "Urgency Level: Medium\n",
      "Entities: {'products': ['phone'], 'dates': ['25/05/2024'], 'complaint_keywords': []}\n"
     ]
    }
   ],
   "source": [
    "# ------------------ TEST EXAMPLE ------------------\n",
    "\n",
    "if __name__ == \"__main__\":\n",
    "    sample_text = \"My phone crashed on 25/05/2024 and it hasn't worked since. Very frustrated!\"\n",
    "    result = predict_ticket(sample_text)\n",
    "    print(\"\\nSample Prediction:\")\n",
    "    print(\"Issue Type:\", result[\"issue_type\"])\n",
    "    print(\"Urgency Level:\", result[\"urgency_level\"])\n",
    "    print(\"Entities:\", result[\"entities\"])a\n"
   ]
  },
  {
   "cell_type": "markdown",
   "id": "e070936c-9985-4ba7-9671-e02921a212f7",
   "metadata": {},
   "source": [
    "##6. GRADIO INTERFACE"
   ]
  },
  {
   "cell_type": "code",
   "execution_count": 37,
   "id": "bf8dbc8d-544a-4d20-901e-ddda3ba9d1c3",
   "metadata": {},
   "outputs": [
    {
     "name": "stdout",
     "output_type": "stream",
     "text": [
      "* Running on local URL:  http://127.0.0.1:7862\n",
      "* To create a public link, set `share=True` in `launch()`.\n"
     ]
    },
    {
     "data": {
      "text/html": [
       "<div><iframe src=\"http://127.0.0.1:7862/\" width=\"100%\" height=\"500\" allow=\"autoplay; camera; microphone; clipboard-read; clipboard-write;\" frameborder=\"0\" allowfullscreen></iframe></div>"
      ],
      "text/plain": [
       "<IPython.core.display.HTML object>"
      ]
     },
     "metadata": {},
     "output_type": "display_data"
    }
   ],
   "source": [
    "# ------------------ GRADIO INTERFACE ------------------\n",
    "try:\n",
    "    import gradio as gr\n",
    "\n",
    "    def gradio_interface(ticket_text):\n",
    "        result = predict_ticket(ticket_text)\n",
    "        return (\n",
    "            result['issue_type'],        # first output - Issue Type textbox\n",
    "            result['urgency_level'],     # second output - Urgency Level textbox\n",
    "            result['entities']           # third output - JSON component\n",
    "        )\n",
    "\n",
    "\n",
    "    iface = gr.Interface(\n",
    "        fn=gradio_interface,\n",
    "        inputs=gr.Textbox(lines=5, placeholder=\"Enter a support ticket...\"),\n",
    "        outputs=[\n",
    "            gr.Text(label=\"Issue Type\"),\n",
    "            gr.Text(label=\"Urgency Level\"),\n",
    "            gr.JSON(label=\"Extracted Entities\")\n",
    "        ],\n",
    "        title=\"Customer Support Ticket Classifier\",\n",
    "        description=\"Classifies issue type and urgency level, and extracts product names, dates, and complaints from a support ticket.\"\n",
    "    )\n",
    "\n",
    "    iface.launch(share=False)\n",
    "\n",
    "except ImportError:\n",
    "    print(\"Gradio not installed. Run: pip install gradio\")\n"
   ]
  },
  {
   "cell_type": "markdown",
   "id": "cc9a9dab",
   "metadata": {},
   "source": [
    "## 6. Observations and Limitations"
   ]
  },
  {
   "cell_type": "markdown",
   "id": "eb369009",
   "metadata": {},
   "source": [
    "- **Issue Type** classification performs well using Random Forest.\n",
    "- **Urgency Level** prediction is harder. Models confuse between Medium and High.\n",
    "- Added features like exclamations, all-caps, complaint keywords, and sentiment helped slightly.\n",
    "- Better results may require advanced semantic models or larger data.\n",
    "\n",
    "**This completes Task 1.**\n"
   ]
  }
 ],
 "metadata": {
  "kernelspec": {
   "display_name": "Python (support_ticket_nlp)",
   "language": "python",
   "name": "myenv"
  },
  "language_info": {
   "codemirror_mode": {
    "name": "ipython",
    "version": 3
   },
   "file_extension": ".py",
   "mimetype": "text/x-python",
   "name": "python",
   "nbconvert_exporter": "python",
   "pygments_lexer": "ipython3",
   "version": "3.10.16"
  }
 },
 "nbformat": 4,
 "nbformat_minor": 5
}
